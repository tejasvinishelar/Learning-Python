{
 "cells": [
  {
   "cell_type": "code",
   "execution_count": 10,
   "metadata": {},
   "outputs": [
    {
     "name": "stdout",
     "output_type": "stream",
     "text": [
      "Hello Python\n"
     ]
    }
   ],
   "source": [
    "print(\"Hello Python\")\n"
   ]
  },
  {
   "cell_type": "code",
   "execution_count": 12,
   "metadata": {},
   "outputs": [
    {
     "name": "stdout",
     "output_type": "stream",
     "text": [
      "a :10\n",
      "b :20\n",
      "After swapping\n",
      "a : 20\n",
      "b :10\n"
     ]
    }
   ],
   "source": [
    "#swapping values of two variables\n",
    "a=10\n",
    "b=20\n",
    "\n",
    "print(\"a :%d\"%a)\n",
    "print(\"b :%d\"%b)\n",
    "\n",
    "c=a\n",
    "a=b\n",
    "b=c\n",
    "\n",
    "print(\"After swapping\")\n",
    "print(\"a : %d\"%a)\n",
    "print(\"b :%d\"%b)\n",
    "\n"
   ]
  },
  {
   "cell_type": "code",
   "execution_count": 13,
   "metadata": {},
   "outputs": [
    {
     "name": "stdout",
     "output_type": "stream",
     "text": [
      "Before Swapping\n",
      "a : 10\n",
      "b : 20\n",
      "After swapping\n",
      "a :20\n",
      "b :10\n"
     ]
    }
   ],
   "source": [
    "#swapping values of two variables without using third variable\n",
    "\n",
    "a=10\n",
    "b=20\n",
    "\n",
    "print(\"Before Swapping\")\n",
    "print(\"a : %d\"%a)\n",
    "print(\"b : %d\"%b)\n",
    "\n",
    "a=a+b\n",
    "b=a-b\n",
    "a=a-b\n",
    "\n",
    "print(\"After swapping\")\n",
    "print(\"a :%d\"%a)\n",
    "print(\"b :%d\"%b)\n",
    "\n"
   ]
  },
  {
   "cell_type": "code",
   "execution_count": null,
   "metadata": {},
   "outputs": [],
   "source": []
  },
  {
   "cell_type": "code",
   "execution_count": null,
   "metadata": {},
   "outputs": [],
   "source": []
  }
 ],
 "metadata": {
  "kernelspec": {
   "display_name": "Python 3",
   "language": "python",
   "name": "python3"
  },
  "language_info": {
   "codemirror_mode": {
    "name": "ipython",
    "version": 3
   },
   "file_extension": ".py",
   "mimetype": "text/x-python",
   "name": "python",
   "nbconvert_exporter": "python",
   "pygments_lexer": "ipython3",
   "version": "3.6.5"
  }
 },
 "nbformat": 4,
 "nbformat_minor": 2
}
