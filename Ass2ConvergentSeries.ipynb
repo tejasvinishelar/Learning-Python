{
 "cells": [
  {
   "cell_type": "code",
   "execution_count": 6,
   "metadata": {},
   "outputs": [
    {
     "name": "stdout",
     "output_type": "stream",
     "text": [
      "Name : Tejasvini Shelar\n",
      "Course Number : CS608\n",
      "Date : 2018-09-21 22:14:54.687850\n",
      "\n",
      "Sum of  1000 terms after multiplying by 4 : 3.996003996003996\n",
      "\n",
      "Sum of  2000 terms after multiplying by 4 : 3.99800099950025\n",
      "\n",
      "Sum of  3000 terms after multiplying by 4 : 3.9986671109630123\n",
      "\n",
      "Sum of  4000 terms after multiplying by 4 : 3.9990002499375157\n",
      "\n",
      "Sum of  5000 terms after multiplying by 4 : 3.9992001599680065\n",
      "\n",
      "Sum of  6000 terms after multiplying by 4 : 3.999333444425929\n",
      "\n",
      "Sum of  7000 terms after multiplying by 4 : 3.999428653049564\n",
      "\n",
      "Sum of  8000 terms after multiplying by 4 : 3.9995000624921886\n",
      "\n",
      "Sum of  9000 terms after multiplying by 4 : 3.999555604932785\n",
      "\n",
      "Sum of  10000 terms after multiplying by 4 : 3.9996000399960003\n",
      "Difference between successive sum values : \n",
      "0.0004992508740634394\n",
      "0.00016652786569060218\n",
      "8.328474362584437e-05\n",
      "4.997750762270048e-05\n",
      "3.332111448062225e-05\n",
      "2.380215590880308e-05\n",
      "1.7852360656100963e-05\n",
      "1.388561014914469e-05\n",
      "1.1108765803791165e-05\n",
      "Conclusion\n",
      "The Difference between successive sum values is less than .0001\n",
      "Therefore the given series is likely convergent\n"
     ]
    }
   ],
   "source": [
    "import datetime\n",
    "\n",
    "print(\"\"\"Name : Tejasvini Shelar\n",
    "Course Number : CS608\n",
    "Date :\"\"\",datetime.datetime.now())\n",
    "\n",
    "#series = 1 - 1/3 + 1/5 - 1/7 + 1/9 ...\n",
    "sumOfTerms = [0,0,0,0,0,0,0,0,0,0]\n",
    "difference = 0\n",
    "k = 0\n",
    "\n",
    "for i in range(1000,10001,1000):\n",
    "    for j in range(1,i,2):\n",
    "        sumOfTerms[k] = sumOfTerms[k] + pow(j, -1)\n",
    "        if(j<i):\n",
    "            j=j+2\n",
    "            sumOfTerms[k] = sumOfTerms[k] - pow(j, -1)\n",
    "    \n",
    "    print(\"\\nSum of \",(j-1),\"terms after multiplying by 4 :\",sumOfTerms[k]*4)\n",
    "    k=k+1\n",
    "\n",
    "print(\"Difference between successive sum values : \");\n",
    "for i in range(1,10,1):\n",
    "    difference = sumOfTerms[i] - sumOfTerms[i-1]\n",
    "    print(difference)\n",
    "    \n",
    "print(\"\"\"Conclusion\n",
    "The Difference between successive sum values is less than .0001\n",
    "Therefore the given series is likely convergent\"\"\")\n",
    "    \n",
    "\n",
    "        \n",
    "        "
   ]
  },
  {
   "cell_type": "code",
   "execution_count": null,
   "metadata": {},
   "outputs": [],
   "source": [
    " "
   ]
  }
 ],
 "metadata": {
  "kernelspec": {
   "display_name": "Python 3",
   "language": "python",
   "name": "python3"
  },
  "language_info": {
   "codemirror_mode": {
    "name": "ipython",
    "version": 3
   },
   "file_extension": ".py",
   "mimetype": "text/x-python",
   "name": "python",
   "nbconvert_exporter": "python",
   "pygments_lexer": "ipython3",
   "version": "3.6.5"
  }
 },
 "nbformat": 4,
 "nbformat_minor": 2
}
