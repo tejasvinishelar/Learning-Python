{
 "cells": [
  {
   "cell_type": "code",
   "execution_count": 22,
   "metadata": {},
   "outputs": [
    {
     "name": "stdout",
     "output_type": "stream",
     "text": [
      "Enter a number to search :10\n",
      "Number 10 found at 0 \n"
     ]
    }
   ],
   "source": [
    "numberlist = [10,20,30,40,50,60]\n",
    "searchno =int( input(\"Enter a number to search :\"))\n",
    "#print(\"Search no : %d\"%searchno)\n",
    "i=0\n",
    "for index,i in enumerate(numberlist) : \n",
    "    if searchno == i:\n",
    "       print(\"Number %d found at %d \"%(searchno,index))\n",
    "    "
   ]
  },
  {
   "cell_type": "code",
   "execution_count": null,
   "metadata": {},
   "outputs": [],
   "source": []
  },
  {
   "cell_type": "code",
   "execution_count": null,
   "metadata": {},
   "outputs": [],
   "source": []
  }
 ],
 "metadata": {
  "kernelspec": {
   "display_name": "Python 3",
   "language": "python",
   "name": "python3"
  },
  "language_info": {
   "codemirror_mode": {
    "name": "ipython",
    "version": 3
   },
   "file_extension": ".py",
   "mimetype": "text/x-python",
   "name": "python",
   "nbconvert_exporter": "python",
   "pygments_lexer": "ipython3",
   "version": "3.6.5"
  }
 },
 "nbformat": 4,
 "nbformat_minor": 2
}
