{
 "cells": [
  {
   "cell_type": "code",
   "execution_count": 102,
   "metadata": {},
   "outputs": [
    {
     "name": "stdout",
     "output_type": "stream",
     "text": [
      "Name : Tejasvini Shelar\n",
      "Course Number : CS608\n",
      "Date :  2018-09-21 21:48:06.953619\n",
      "Sum of  1000  terms : 1.6439335666815615\n",
      "Sum of  2000  terms : 1.644433941827396\n",
      "Sum of  3000  terms : 1.6446006779531712\n",
      "Sum of  4000  terms : 1.6446840355956318\n",
      "Sum of  5000  terms : 1.6447340468469014\n",
      "Sum of  6000  terms : 1.6447673862919034\n",
      "Sum of  7000  terms : 1.644791199500804\n",
      "Sum of  8000  terms : 1.6448090590354028\n",
      "Sum of  9000  terms : 1.6448229495640512\n",
      "Sum of  10000  terms : 1.6448340618480652\n",
      "Difference between successive sums : \n",
      "-0.0009004951665037009\n",
      "0.000500375145834564\n",
      "0.0001667361257751132\n",
      "8.335764246059085e-05\n",
      "5.001125126957717e-05\n",
      "3.333944500205632e-05\n",
      "2.3813208900547167e-05\n",
      "1.7859534598763105e-05\n",
      "1.389052864841922e-05\n",
      "1.1112284014069829e-05\n",
      "Conclusion\n",
      "The Difference between successive sum values is less than .0001\n",
      "Therefore the given series is likely convergent\n"
     ]
    }
   ],
   "source": [
    "import datetime\n",
    "\n",
    "\n",
    "print(\"\"\"Name : Tejasvini Shelar\n",
    "Course Number : CS608\n",
    "Date : \"\"\",datetime.datetime.now())\n",
    "\n",
    "sumOfTerms= [0,0,0,0,0,0,0,0,0,0]\n",
    "difference = 0\n",
    "k = 0\n",
    "\n",
    "\n",
    "#series - 1 + 2^-2 + 3^-2 + 4^-2\n",
    "\n",
    "for i in range(1000,10001,1000):\n",
    "    for j in range(1,i,1):   \n",
    "        sumOfTerms[k] = sumOfTerms[k] + pow(j , -2)\n",
    "       \n",
    "    print(\"Sum of \",i,\" terms :\",sumOfTerms[k])\n",
    "    k=k+1\n",
    "    \n",
    "\n",
    "print(\"Difference between successive sums : \")\n",
    "k=0\n",
    "for k in range(0,10,1):\n",
    "    difference = sumOfTerms[k] - sumOfTerms[k-1]\n",
    "    print(difference)\n",
    "    \n",
    "print(\"\"\"Conclusion\n",
    "The Difference between successive sum values is less than .0001\n",
    "Therefore the given series is likely convergent\"\"\")\n",
    "    \n",
    "        \n",
    "\n",
    "\n",
    "\n"
   ]
  },
  {
   "cell_type": "code",
   "execution_count": null,
   "metadata": {},
   "outputs": [],
   "source": []
  },
  {
   "cell_type": "code",
   "execution_count": null,
   "metadata": {},
   "outputs": [],
   "source": []
  },
  {
   "cell_type": "code",
   "execution_count": null,
   "metadata": {},
   "outputs": [],
   "source": []
  }
 ],
 "metadata": {
  "kernelspec": {
   "display_name": "Python 3",
   "language": "python",
   "name": "python3"
  },
  "language_info": {
   "codemirror_mode": {
    "name": "ipython",
    "version": 3
   },
   "file_extension": ".py",
   "mimetype": "text/x-python",
   "name": "python",
   "nbconvert_exporter": "python",
   "pygments_lexer": "ipython3",
   "version": "3.6.5"
  }
 },
 "nbformat": 4,
 "nbformat_minor": 2
}
